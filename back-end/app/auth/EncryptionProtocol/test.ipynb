{
 "cells": [
  {
   "cell_type": "code",
   "execution_count": 16,
   "metadata": {},
   "outputs": [
    {
     "name": "stdout",
     "output_type": "stream",
     "text": [
      "1st Encrypted: b'gAAAAABnMPCXdkKmjR2eZTsO68OW94_ajccNcM40plWpRTVDNeLG0j7JQFo0UtDg9yJUp7m7yV7xnr_8vUD-JmxGuZE5Wb1T1w=='   <class 'bytes'>\n",
      "2nd Decrypted: Secret message   <class 'bytes'>\n"
     ]
    }
   ],
   "source": [
    "from cryptography.fernet import Fernet\n",
    "\n",
    "# Generate a key (store this securely)\n",
    "key = Fernet.generate_key()\n",
    "cipher = Fernet(key)\n",
    "\n",
    "# Encrypt a message\n",
    "message = b\"Secret message\"\n",
    "#message_bytes = message.encode()\n",
    "encrypted_message = cipher.encrypt(message)\n",
    "print(\"1st Encrypted:\", encrypted_message, \" \", type(encrypted_message))\n",
    "\n",
    "# Decrypt the message\n",
    "decrypted_message = cipher.decrypt(encrypted_message)\n",
    "print(\"2nd Decrypted:\", decrypted_message.decode(),  \" \", type(encrypted_message))\n",
    "\n"
   ]
  },
  {
   "cell_type": "code",
   "execution_count": 21,
   "metadata": {},
   "outputs": [
    {
     "name": "stdout",
     "output_type": "stream",
     "text": [
      "True\n",
      "The value is 43345\n"
     ]
    }
   ],
   "source": [
    "class Singleton:\n",
    "    _instance = None\n",
    "\n",
    "    def __new__(cls, *args, **kwargs):\n",
    "        if cls._instance is None:\n",
    "            cls._instance = super().__new__(cls)\n",
    "        return cls._instance\n",
    "\n",
    "    def __init__(self,num):\n",
    "        # Initialize some attributes only once\n",
    "        if not hasattr(self, 'initialized'):  # To ensure it's only initialized once\n",
    "            self.value = num\n",
    "            self.initialized = True\n",
    "\n",
    "    def some_function(self):\n",
    "        return f\"The value is {self.value}\"\n",
    "\n",
    "# Usage\n",
    "obj1 = Singleton(43345)\n",
    "obj2 = Singleton(23)\n",
    "\n",
    "print(obj1 is obj2)  # Output: True, both references point to the same instance\n",
    "print(obj1.some_function())  # Output: The value is 42"
   ]
  },
  {
   "cell_type": "code",
   "execution_count": 67,
   "metadata": {},
   "outputs": [
    {
     "name": "stdout",
     "output_type": "stream",
     "text": [
      "05991\n"
     ]
    }
   ],
   "source": [
    "import random\n",
    "\n",
    "formatted_number = f\"{random.randint(0, 99999):05d}\"\n",
    "\n",
    "print(formatted_number)"
   ]
  },
  {
   "cell_type": "code",
   "execution_count": 70,
   "metadata": {},
   "outputs": [
    {
     "name": "stdout",
     "output_type": "stream",
     "text": [
      "Encrypted: b'\\x81\\xcb\\xfe4\\x0bOI\\xce$\\xf2*\\xdf\\xb9\\x0fD\\xe3\\x12\\xc1\\x80)\\xaa\\xcf\\xdc\\xb4\\xe4\\x90*:\\xb1<\\xa5\"\\x0e\\x1f\\t\\x8em\\xfc\\xe3\\x97\\xa3/\\x07\\x8d\\xc8\\x12!f\\x90\\xb8MP\\x01hcfTi\\xba[\\x84\\xf7\\x86\\xee\\xd9\\x99\\xf6_O\\x07\\xc5\\xa3z\\xcd\\xa69\\xff\\xc0\\x1e\\n\\xed\\xb0\\xdc\\xb2\\x15\\xa3\\xb9H\\x81\\xfa\\xddZ\\x9c\\xeb\\xcc#\\x91(\\x8e9/\\x1c\\xb3\\x84\\x04\\xedi\\xebdN\\x19\\xd9b\\x85\\xa4\\x14\\x1d\\xc9\\xc1\\x9cN\\xb1\\xa8\\xbe\\xa3V\\x9d\\x9f\\xa8\\xcc\\xf1j2\\x8a\\x18\\x11^\\xf1\\xa6\\xef\\x9c5\\x07\\x8d\\xb9\\x83W\\xb8u\\xf5l\\xbf\\xfa@\\xee\\x95\\xb5\\x97\\x94\\xb8\\xbeefD\\x02O\\xf6\\x060=\\xc4\\xe0\\x96jWIGU\\x92\\xc4\\xa5\\x98\\x7f\\xb4\\x81\\xa5\\xd2x\\x8f-\\xf7\\x86w\\xa0\\xd3\\x10\\x05\\x90\\xf1\\x0fPP\\xf6\\xc9\\xb3\\\\\\x13\\xbf\\xf1d\\xd5\\xef]\\xe9\\xd2\\x8d\\xd9\\xae\\x1cd*d\\xa2\\xff\\xd8\\x97T\\xa9\\xb5E\\xf7\\xd5`\\x87ow\\x06l@\\xba1\\x917\\xb3\\x14\\x0b3\\x7f|\\x0e)\\x13^\\nzD'\n",
      "Decrypted: Top secret message\n"
     ]
    }
   ],
   "source": [
    "from Crypto.Cipher import PKCS1_OAEP\n",
    "\n",
    "from Crypto.PublicKey import RSA\n",
    "\n",
    "# Generate RSA keys\n",
    "key = RSA.generate(2048)\n",
    "public_key = key.publickey()\n",
    "cipher_rsa = PKCS1_OAEP.new(public_key)\n",
    "\n",
    "# Encrypt a message\n",
    "message = b\"Top secret message\"\n",
    "encrypted_message = cipher_rsa.encrypt(message)\n",
    "print(\"Encrypted:\", encrypted_message)\n",
    "\n",
    "# Decrypt the message using the private key\n",
    "cipher_rsa = PKCS1_OAEP.new(key)\n",
    "decrypted_message = cipher_rsa.decrypt(encrypted_message)\n",
    "print(\"Decrypted:\", decrypted_message.decode())"
   ]
  },
  {
   "cell_type": "code",
   "execution_count": 1,
   "metadata": {},
   "outputs": [
    {
     "name": "stdout",
     "output_type": "stream",
     "text": [
      "<self_rsa.RSA_S object at 0x000001A4AEBDD280>\n",
      "<self_rsa.RSA_S object at 0x000001A4B0449850>\n"
     ]
    }
   ],
   "source": [
    "from IEnDecryption import Encryption\n",
    "from self_rsa import RSA_S\n",
    "from self_fernet import Fernet_S\n",
    "\n",
    "x = RSA_S(\"213\")\n",
    "xx = RSA_S(\"1245\")\n",
    "\n",
    "y = Fernet_S(\"12\")\n",
    "print(x)\n",
    "print(xx)"
   ]
  },
  {
   "cell_type": "code",
   "execution_count": null,
   "metadata": {},
   "outputs": [
    {
     "name": "stdout",
     "output_type": "stream",
     "text": [
      "25\n",
      "FERNET085\n",
      "b'gAAAAABnMRYd4HI5hNwvLPXTSgmDJDZccGdOOWqXSxs3eL4OLdFEFHBbJacf74xOfRO-aBPfV-GpgaVuZFIbJtChQJCT7IaJwg=='\n"
     ]
    },
    {
     "ename": "InvalidToken",
     "evalue": "",
     "output_type": "error",
     "traceback": [
      "\u001b[1;31m---------------------------------------------------------------------------\u001b[0m",
      "\u001b[1;31mInvalidSignature\u001b[0m                          Traceback (most recent call last)",
      "File \u001b[1;32mc:\\Users\\alex_\\AppData\\Local\\Programs\\Python\\Python312\\Lib\\site-packages\\cryptography\\fernet.py:130\u001b[0m, in \u001b[0;36mFernet._verify_signature\u001b[1;34m(self, data)\u001b[0m\n\u001b[0;32m    129\u001b[0m \u001b[38;5;28;01mtry\u001b[39;00m:\n\u001b[1;32m--> 130\u001b[0m     \u001b[43mh\u001b[49m\u001b[38;5;241;43m.\u001b[39;49m\u001b[43mverify\u001b[49m\u001b[43m(\u001b[49m\u001b[43mdata\u001b[49m\u001b[43m[\u001b[49m\u001b[38;5;241;43m-\u001b[39;49m\u001b[38;5;241;43m32\u001b[39;49m\u001b[43m:\u001b[49m\u001b[43m]\u001b[49m\u001b[43m)\u001b[49m\n\u001b[0;32m    131\u001b[0m \u001b[38;5;28;01mexcept\u001b[39;00m InvalidSignature:\n",
      "\u001b[1;31mInvalidSignature\u001b[0m: Signature did not match digest.",
      "\nDuring handling of the above exception, another exception occurred:\n",
      "\u001b[1;31mInvalidToken\u001b[0m                              Traceback (most recent call last)",
      "Cell \u001b[1;32mIn[50], line 11\u001b[0m\n\u001b[0;32m      9\u001b[0m msg \u001b[38;5;241m=\u001b[39m z\u001b[38;5;241m.\u001b[39mrandom_use()\u001b[38;5;241m.\u001b[39mencrypt(msg)\n\u001b[0;32m     10\u001b[0m \u001b[38;5;28mprint\u001b[39m(msg)\n\u001b[1;32m---> 11\u001b[0m msg \u001b[38;5;241m=\u001b[39m \u001b[43mz\u001b[49m\u001b[38;5;241;43m.\u001b[39;49m\u001b[43mrandom_use\u001b[49m\u001b[43m(\u001b[49m\u001b[43m)\u001b[49m\u001b[38;5;241;43m.\u001b[39;49m\u001b[43mdecrypt\u001b[49m\u001b[43m(\u001b[49m\u001b[43mmsg\u001b[49m\u001b[43m)\u001b[49m\n\u001b[0;32m     12\u001b[0m \u001b[38;5;28mprint\u001b[39m(msg)\n",
      "File \u001b[1;32md:\\2024_Fall\\4AA4\\comp\\2024-mcmaster-eng-comp\\back-end\\app\\auth\\EncryptionProtocol\\self_fernet.py:31\u001b[0m, in \u001b[0;36mFernet_S.decrypt\u001b[1;34m(self, data)\u001b[0m\n\u001b[0;32m     29\u001b[0m \u001b[38;5;28;01mdef\u001b[39;00m \u001b[38;5;21mdecrypt\u001b[39m(\u001b[38;5;28mself\u001b[39m, data):\n\u001b[0;32m     30\u001b[0m \u001b[38;5;250m    \u001b[39m\u001b[38;5;124;03m\"\"\"Do exact decrypt\"\"\"\u001b[39;00m\n\u001b[1;32m---> 31\u001b[0m     decrypted_message \u001b[38;5;241m=\u001b[39m \u001b[38;5;28;43mself\u001b[39;49m\u001b[38;5;241;43m.\u001b[39;49m\u001b[43mfernet_cipher\u001b[49m\u001b[38;5;241;43m.\u001b[39;49m\u001b[43mdecrypt\u001b[49m\u001b[43m(\u001b[49m\u001b[43mdata\u001b[49m\u001b[43m)\u001b[49m\u001b[38;5;241m.\u001b[39mdecode()\n\u001b[0;32m     32\u001b[0m     \u001b[38;5;28;01mreturn\u001b[39;00m decrypted_message\n",
      "File \u001b[1;32mc:\\Users\\alex_\\AppData\\Local\\Programs\\Python\\Python312\\Lib\\site-packages\\cryptography\\fernet.py:89\u001b[0m, in \u001b[0;36mFernet.decrypt\u001b[1;34m(self, token, ttl)\u001b[0m\n\u001b[0;32m     87\u001b[0m \u001b[38;5;28;01melse\u001b[39;00m:\n\u001b[0;32m     88\u001b[0m     time_info \u001b[38;5;241m=\u001b[39m (ttl, \u001b[38;5;28mint\u001b[39m(time\u001b[38;5;241m.\u001b[39mtime()))\n\u001b[1;32m---> 89\u001b[0m \u001b[38;5;28;01mreturn\u001b[39;00m \u001b[38;5;28;43mself\u001b[39;49m\u001b[38;5;241;43m.\u001b[39;49m\u001b[43m_decrypt_data\u001b[49m\u001b[43m(\u001b[49m\u001b[43mdata\u001b[49m\u001b[43m,\u001b[49m\u001b[43m \u001b[49m\u001b[43mtimestamp\u001b[49m\u001b[43m,\u001b[49m\u001b[43m \u001b[49m\u001b[43mtime_info\u001b[49m\u001b[43m)\u001b[49m\n",
      "File \u001b[1;32mc:\\Users\\alex_\\AppData\\Local\\Programs\\Python\\Python312\\Lib\\site-packages\\cryptography\\fernet.py:148\u001b[0m, in \u001b[0;36mFernet._decrypt_data\u001b[1;34m(self, data, timestamp, time_info)\u001b[0m\n\u001b[0;32m    145\u001b[0m     \u001b[38;5;28;01mif\u001b[39;00m current_time \u001b[38;5;241m+\u001b[39m _MAX_CLOCK_SKEW \u001b[38;5;241m<\u001b[39m timestamp:\n\u001b[0;32m    146\u001b[0m         \u001b[38;5;28;01mraise\u001b[39;00m InvalidToken\n\u001b[1;32m--> 148\u001b[0m \u001b[38;5;28;43mself\u001b[39;49m\u001b[38;5;241;43m.\u001b[39;49m\u001b[43m_verify_signature\u001b[49m\u001b[43m(\u001b[49m\u001b[43mdata\u001b[49m\u001b[43m)\u001b[49m\n\u001b[0;32m    150\u001b[0m iv \u001b[38;5;241m=\u001b[39m data[\u001b[38;5;241m9\u001b[39m:\u001b[38;5;241m25\u001b[39m]\n\u001b[0;32m    151\u001b[0m ciphertext \u001b[38;5;241m=\u001b[39m data[\u001b[38;5;241m25\u001b[39m:\u001b[38;5;241m-\u001b[39m\u001b[38;5;241m32\u001b[39m]\n",
      "File \u001b[1;32mc:\\Users\\alex_\\AppData\\Local\\Programs\\Python\\Python312\\Lib\\site-packages\\cryptography\\fernet.py:132\u001b[0m, in \u001b[0;36mFernet._verify_signature\u001b[1;34m(self, data)\u001b[0m\n\u001b[0;32m    130\u001b[0m     h\u001b[38;5;241m.\u001b[39mverify(data[\u001b[38;5;241m-\u001b[39m\u001b[38;5;241m32\u001b[39m:])\n\u001b[0;32m    131\u001b[0m \u001b[38;5;28;01mexcept\u001b[39;00m InvalidSignature:\n\u001b[1;32m--> 132\u001b[0m     \u001b[38;5;28;01mraise\u001b[39;00m InvalidToken\n",
      "\u001b[1;31mInvalidToken\u001b[0m: "
     ]
    }
   ],
   "source": [
    "from EncryptionManager import EManager\n",
    "z = EManager()\n",
    "x = EManager()\n",
    "y = EManager()\n",
    "z.protocols\n",
    "print(len(z.protocols))\n",
    "print(z.random_use().protocol_name)\n",
    "x = z.random_use()\n",
    "msg = \"ABCDEFG\"\n",
    "msg = x.encrypt(msg)\n",
    "print(msg)\n",
    "msg = x.decrypt(msg)\n",
    "print(msg)"
   ]
  }
 ],
 "metadata": {
  "kernelspec": {
   "display_name": "Python 3",
   "language": "python",
   "name": "python3"
  },
  "language_info": {
   "codemirror_mode": {
    "name": "ipython",
    "version": 3
   },
   "file_extension": ".py",
   "mimetype": "text/x-python",
   "name": "python",
   "nbconvert_exporter": "python",
   "pygments_lexer": "ipython3",
   "version": "3.12.6"
  }
 },
 "nbformat": 4,
 "nbformat_minor": 2
}
